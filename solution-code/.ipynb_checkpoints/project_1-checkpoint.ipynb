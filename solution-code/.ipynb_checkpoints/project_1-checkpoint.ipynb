{
 "cells": [
  {
   "cell_type": "markdown",
   "metadata": {},
   "source": [
    "# Project 1\n",
    "\n",
    "## Step 1: Open the `sat_scores.csv` file. Investigate the data, and answer the questions below.\n"
   ]
  },
  {
   "cell_type": "markdown",
   "metadata": {},
   "source": [
    "##### 1. What does the data describe?"
   ]
  },
  {
   "cell_type": "markdown",
   "metadata": {},
   "source": []
  },
  {
   "cell_type": "markdown",
   "metadata": {},
   "source": [
    "##### 2. Does the data look complete? Are there any obvious issues with the observations?"
   ]
  },
  {
   "cell_type": "markdown",
   "metadata": {},
   "source": []
  },
  {
   "cell_type": "markdown",
   "metadata": {},
   "source": [
    "##### 3. Create a data dictionary for the dataset."
   ]
  },
  {
   "cell_type": "markdown",
   "metadata": {
    "collapsed": true
   },
   "source": []
  },
  {
   "cell_type": "markdown",
   "metadata": {},
   "source": [
    "## Step 2: Load the data."
   ]
  },
  {
   "cell_type": "markdown",
   "metadata": {},
   "source": [
    "##### 4. Load the data into a list of lists"
   ]
  },
  {
   "cell_type": "code",
   "execution_count": 19,
   "metadata": {
    "collapsed": false
   },
   "outputs": [],
   "source": [
    "import csv\n",
    "from pprint import pprint\n",
    "from __future__ import print_function\n",
    "\n",
    "\n",
    "sat_scores =[]\n",
    "with open('../assets/sat_scores.csv', 'rU') as f:\n",
    "    reader = csv.reader(f)\n",
    "    for row in reader:\n",
    "        sat_scores.append(row)\n"
   ]
  },
  {
   "cell_type": "markdown",
   "metadata": {},
   "source": [
    "##### 5. Print the data"
   ]
  },
  {
   "cell_type": "code",
   "execution_count": 20,
   "metadata": {
    "collapsed": false
   },
   "outputs": [
    {
     "name": "stdout",
     "output_type": "stream",
     "text": [
      "['State', 'Rate', 'Verbal', 'Math']\n",
      "['CT', '82', '509', '510']\n",
      "['NJ', '81', '499', '513']\n",
      "['MA', '79', '511', '515']\n",
      "['NY', '77', '495', '505']\n",
      "['NH', '72', '520', '516']\n",
      "['RI', '71', '501', '499']\n",
      "['PA', '71', '500', '499']\n",
      "['VT', '69', '511', '506']\n",
      "['ME', '69', '506', '500']\n",
      "['VA', '68', '510', '501']\n",
      "['DE', '67', '501', '499']\n",
      "['MD', '65', '508', '510']\n",
      "['NC', '65', '493', '499']\n",
      "['GA', '63', '491', '489']\n",
      "['IN', '60', '499', '501']\n",
      "['SC', '57', '486', '488']\n",
      "['DC', '56', '482', '474']\n",
      "['OR', '55', '526', '526']\n",
      "['FL', '54', '498', '499']\n",
      "['WA', '53', '527', '527']\n",
      "['TX', '53', '493', '499']\n",
      "['HI', '52', '485', '515']\n",
      "['AK', '51', '514', '510']\n",
      "['CA', '51', '498', '517']\n",
      "['AZ', '34', '523', '525']\n",
      "['NV', '33', '509', '515']\n",
      "['CO', '31', '539', '542']\n",
      "['OH', '26', '534', '439']\n",
      "['MT', '23', '539', '539']\n",
      "['WV', '18', '527', '512']\n",
      "['ID', '17', '543', '542']\n",
      "['TN', '13', '562', '553']\n",
      "['NM', '13', '551', '542']\n",
      "['IL', '12', '576', '589']\n",
      "['KY', '12', '550', '550']\n",
      "['WY', '11', '547', '545']\n",
      "['MI', '11', '561', '572']\n",
      "['MN', '9', '580', '589']\n",
      "['KS', '9', '577', '580']\n",
      "['AL', '9', '559', '554']\n",
      "['NE', '8', '562', '568']\n",
      "['OK', '8', '567', '561']\n",
      "['MO', '8', '577', '577']\n",
      "['LA', '7', '564', '562']\n",
      "['WI', '6', '584', '596']\n",
      "['AR', '6', '562', '550']\n",
      "['UT', '5', '575', '570']\n",
      "['IA', '5', '593', '603']\n",
      "['SD', '4', '577', '582']\n",
      "['ND', '4', '592', '599']\n",
      "['MS', '4', '566', '551']\n",
      "['All', '45', '506', '514']\n"
     ]
    }
   ],
   "source": [
    "\n",
    "print (*sat_scores, sep='\\n')\n"
   ]
  },
  {
   "cell_type": "markdown",
   "metadata": {
    "collapsed": true
   },
   "source": [
    "##### 6. Extract a list of the labels from the data, and remove them from the data."
   ]
  },
  {
   "cell_type": "code",
   "execution_count": 21,
   "metadata": {
    "collapsed": false,
    "scrolled": false
   },
   "outputs": [
    {
     "name": "stdout",
     "output_type": "stream",
     "text": [
      "['State', 'Rate', 'Verbal', 'Math']\n",
      "['All', '45', '506', '514']\n"
     ]
    }
   ],
   "source": [
    "header = summary_row = []\n",
    "\n",
    "header_row=sat_scores.pop(0)\n",
    "print (header_row)\n",
    "summary_row = sat_scores.pop()\n",
    "print (summary_row)\n",
    "\n",
    "#print (*sat_scores, sep='\\n')\n"
   ]
  },
  {
   "cell_type": "markdown",
   "metadata": {},
   "source": [
    "##### 7. Create a list of State names extracted from the data. (Hint: use the list of labels to index on the State column)"
   ]
  },
  {
   "cell_type": "code",
   "execution_count": 22,
   "metadata": {
    "collapsed": false
   },
   "outputs": [
    {
     "name": "stdout",
     "output_type": "stream",
     "text": [
      "['CT',\n",
      " 'NJ',\n",
      " 'MA',\n",
      " 'NY',\n",
      " 'NH',\n",
      " 'RI',\n",
      " 'PA',\n",
      " 'VT',\n",
      " 'ME',\n",
      " 'VA',\n",
      " 'DE',\n",
      " 'MD',\n",
      " 'NC',\n",
      " 'GA',\n",
      " 'IN',\n",
      " 'SC',\n",
      " 'DC',\n",
      " 'OR',\n",
      " 'FL',\n",
      " 'WA',\n",
      " 'TX',\n",
      " 'HI',\n",
      " 'AK',\n",
      " 'CA',\n",
      " 'AZ',\n",
      " 'NV',\n",
      " 'CO',\n",
      " 'OH',\n",
      " 'MT',\n",
      " 'WV',\n",
      " 'ID',\n",
      " 'TN',\n",
      " 'NM',\n",
      " 'IL',\n",
      " 'KY',\n",
      " 'WY',\n",
      " 'MI',\n",
      " 'MN',\n",
      " 'KS',\n",
      " 'AL',\n",
      " 'NE',\n",
      " 'OK',\n",
      " 'MO',\n",
      " 'LA',\n",
      " 'WI',\n",
      " 'AR',\n",
      " 'UT',\n",
      " 'IA',\n",
      " 'SD',\n",
      " 'ND',\n",
      " 'MS']\n"
     ]
    }
   ],
   "source": [
    "state=[st[0] for st in sat_scores]\n",
    "pprint (state)"
   ]
  },
  {
   "cell_type": "markdown",
   "metadata": {},
   "source": [
    "##### 8. Print the types of each column"
   ]
  },
  {
   "cell_type": "code",
   "execution_count": 23,
   "metadata": {
    "collapsed": false
   },
   "outputs": [
    {
     "name": "stdout",
     "output_type": "stream",
     "text": [
      "Column 0  <type 'str'>\n",
      "Column 1  <type 'str'>\n",
      "Column 2  <type 'str'>\n",
      "Column 3  <type 'str'>\n"
     ]
    }
   ],
   "source": [
    "col0_type = type(sat_scores[0][0])\n",
    "col1_type = type(sat_scores[0][1])\n",
    "col2_type = type(sat_scores[0][2])\n",
    "col3_type = type(sat_scores[0][3])\n",
    "print (\"Column 0 \", col0_type)\n",
    "print (\"Column 1 \", col1_type)\n",
    "print (\"Column 2 \", col2_type)\n",
    "print (\"Column 3 \", col3_type)\n"
   ]
  },
  {
   "cell_type": "markdown",
   "metadata": {},
   "source": [
    "9. Do any types need to be reassigned? If so, go ahead and do it."
   ]
  },
  {
   "cell_type": "markdown",
   "metadata": {},
   "source": [
    "    The 2nd through 4th columns are numeric values, but are represented as strings.  These need to be convereted to integers or floats.  Using floats would not povide a significant advantage to the analysis.  Integers are appropriate."
   ]
  },
  {
   "cell_type": "code",
   "execution_count": 24,
   "metadata": {
    "collapsed": false
   },
   "outputs": [],
   "source": [
    "for row in sat_scores:\n",
    "#    print(row)\n",
    "    row[1] = int(row[1])\n",
    "    row[2] = int(row[2])\n",
    "    row[3] = int(row[3])\n",
    "#    print(row)"
   ]
  },
  {
   "cell_type": "markdown",
   "metadata": {},
   "source": [
    "##### 10. Create a dictionary for each column mapping the State to its respective value for that column. "
   ]
  },
  {
   "cell_type": "code",
   "execution_count": 25,
   "metadata": {
    "collapsed": false,
    "scrolled": false
   },
   "outputs": [
    {
     "name": "stdout",
     "output_type": "stream",
     "text": [
      "['CT', 82, 509, 510]\n",
      "['NJ', 81, 499, 513]\n",
      "['MA', 79, 511, 515]\n",
      "['NY', 77, 495, 505]\n",
      "['NH', 72, 520, 516]\n",
      "['RI', 71, 501, 499]\n",
      "['PA', 71, 500, 499]\n",
      "['VT', 69, 511, 506]\n",
      "['ME', 69, 506, 500]\n",
      "['VA', 68, 510, 501]\n",
      "['DE', 67, 501, 499]\n",
      "['MD', 65, 508, 510]\n",
      "['NC', 65, 493, 499]\n",
      "['GA', 63, 491, 489]\n",
      "['IN', 60, 499, 501]\n",
      "['SC', 57, 486, 488]\n",
      "['DC', 56, 482, 474]\n",
      "['OR', 55, 526, 526]\n",
      "['FL', 54, 498, 499]\n",
      "['WA', 53, 527, 527]\n",
      "['TX', 53, 493, 499]\n",
      "['HI', 52, 485, 515]\n",
      "['AK', 51, 514, 510]\n",
      "['CA', 51, 498, 517]\n",
      "['AZ', 34, 523, 525]\n",
      "['NV', 33, 509, 515]\n",
      "['CO', 31, 539, 542]\n",
      "['OH', 26, 534, 439]\n",
      "['MT', 23, 539, 539]\n",
      "['WV', 18, 527, 512]\n",
      "['ID', 17, 543, 542]\n",
      "['TN', 13, 562, 553]\n",
      "['NM', 13, 551, 542]\n",
      "['IL', 12, 576, 589]\n",
      "['KY', 12, 550, 550]\n",
      "['WY', 11, 547, 545]\n",
      "['MI', 11, 561, 572]\n",
      "['MN', 9, 580, 589]\n",
      "['KS', 9, 577, 580]\n",
      "['AL', 9, 559, 554]\n",
      "['NE', 8, 562, 568]\n",
      "['OK', 8, 567, 561]\n",
      "['MO', 8, 577, 577]\n",
      "['LA', 7, 564, 562]\n",
      "['WI', 6, 584, 596]\n",
      "['AR', 6, 562, 550]\n",
      "['UT', 5, 575, 570]\n",
      "['IA', 5, 593, 603]\n",
      "['SD', 4, 577, 582]\n",
      "['ND', 4, 592, 599]\n",
      "['MS', 4, 566, 551]\n"
     ]
    }
   ],
   "source": [
    "for row in sat_scores:\n",
    "    print (row)\n",
    "\n",
    "    sat_rate_dict = {row[0]:row[1]  for row in (sat_scores)}\n",
    "    sat_verbal_dict = {row[0]:row[2] for row in (sat_scores)}\n",
    "    sat_math_dict = {row[0]:row[3]  for row in (sat_scores)}"
   ]
  },
  {
   "cell_type": "code",
   "execution_count": 26,
   "metadata": {
    "collapsed": false,
    "scrolled": true
   },
   "outputs": [
    {
     "name": "stdout",
     "output_type": "stream",
     "text": [
      "{'AK': 51,\n",
      " 'AL': 9,\n",
      " 'AR': 6,\n",
      " 'AZ': 34,\n",
      " 'CA': 51,\n",
      " 'CO': 31,\n",
      " 'CT': 82,\n",
      " 'DC': 56,\n",
      " 'DE': 67,\n",
      " 'FL': 54,\n",
      " 'GA': 63,\n",
      " 'HI': 52,\n",
      " 'IA': 5,\n",
      " 'ID': 17,\n",
      " 'IL': 12,\n",
      " 'IN': 60,\n",
      " 'KS': 9,\n",
      " 'KY': 12,\n",
      " 'LA': 7,\n",
      " 'MA': 79,\n",
      " 'MD': 65,\n",
      " 'ME': 69,\n",
      " 'MI': 11,\n",
      " 'MN': 9,\n",
      " 'MO': 8,\n",
      " 'MS': 4,\n",
      " 'MT': 23,\n",
      " 'NC': 65,\n",
      " 'ND': 4,\n",
      " 'NE': 8,\n",
      " 'NH': 72,\n",
      " 'NJ': 81,\n",
      " 'NM': 13,\n",
      " 'NV': 33,\n",
      " 'NY': 77,\n",
      " 'OH': 26,\n",
      " 'OK': 8,\n",
      " 'OR': 55,\n",
      " 'PA': 71,\n",
      " 'RI': 71,\n",
      " 'SC': 57,\n",
      " 'SD': 4,\n",
      " 'TN': 13,\n",
      " 'TX': 53,\n",
      " 'UT': 5,\n",
      " 'VA': 68,\n",
      " 'VT': 69,\n",
      " 'WA': 53,\n",
      " 'WI': 6,\n",
      " 'WV': 18,\n",
      " 'WY': 11}\n"
     ]
    }
   ],
   "source": [
    "pprint (sat_rate_dict)"
   ]
  },
  {
   "cell_type": "markdown",
   "metadata": {},
   "source": [
    "11. Create a dictionary with the values for each of the numeric columns"
   ]
  },
  {
   "cell_type": "code",
   "execution_count": 27,
   "metadata": {
    "collapsed": false
   },
   "outputs": [],
   "source": [
    "sat_data_dict={}\n",
    "sat_data_dict ={name: [sat_rate_dict[name],sat_verbal_dict[name]\\\n",
    "                      , sat_math_dict[name]]\\\n",
    "                        for name in state}"
   ]
  },
  {
   "cell_type": "code",
   "execution_count": 28,
   "metadata": {
    "collapsed": true
   },
   "outputs": [
    {
     "name": "stdout",
     "output_type": "stream",
     "text": [
      "{'AK': [51, 514, 510],\n",
      " 'AL': [9, 559, 554],\n",
      " 'AR': [6, 562, 550],\n",
      " 'AZ': [34, 523, 525],\n",
      " 'CA': [51, 498, 517],\n",
      " 'CO': [31, 539, 542],\n",
      " 'CT': [82, 509, 510],\n",
      " 'DC': [56, 482, 474],\n",
      " 'DE': [67, 501, 499],\n",
      " 'FL': [54, 498, 499],\n",
      " 'GA': [63, 491, 489],\n",
      " 'HI': [52, 485, 515],\n",
      " 'IA': [5, 593, 603],\n",
      " 'ID': [17, 543, 542],\n",
      " 'IL': [12, 576, 589],\n",
      " 'IN': [60, 499, 501],\n",
      " 'KS': [9, 577, 580],\n",
      " 'KY': [12, 550, 550],\n",
      " 'LA': [7, 564, 562],\n",
      " 'MA': [79, 511, 515],\n",
      " 'MD': [65, 508, 510],\n",
      " 'ME': [69, 506, 500],\n",
      " 'MI': [11, 561, 572],\n",
      " 'MN': [9, 580, 589],\n",
      " 'MO': [8, 577, 577],\n",
      " 'MS': [4, 566, 551],\n",
      " 'MT': [23, 539, 539],\n",
      " 'NC': [65, 493, 499],\n",
      " 'ND': [4, 592, 599],\n",
      " 'NE': [8, 562, 568],\n",
      " 'NH': [72, 520, 516],\n",
      " 'NJ': [81, 499, 513],\n",
      " 'NM': [13, 551, 542],\n",
      " 'NV': [33, 509, 515],\n",
      " 'NY': [77, 495, 505],\n",
      " 'OH': [26, 534, 439],\n",
      " 'OK': [8, 567, 561],\n",
      " 'OR': [55, 526, 526],\n",
      " 'PA': [71, 500, 499],\n",
      " 'RI': [71, 501, 499],\n",
      " 'SC': [57, 486, 488],\n",
      " 'SD': [4, 577, 582],\n",
      " 'TN': [13, 562, 553],\n",
      " 'TX': [53, 493, 499],\n",
      " 'UT': [5, 575, 570],\n",
      " 'VA': [68, 510, 501],\n",
      " 'VT': [69, 511, 506],\n",
      " 'WA': [53, 527, 527],\n",
      " 'WI': [6, 584, 596],\n",
      " 'WV': [18, 527, 512],\n",
      " 'WY': [11, 547, 545]}\n"
     ]
    }
   ],
   "source": [
    "pprint (sat_data_dict)"
   ]
  },
  {
   "cell_type": "markdown",
   "metadata": {},
   "source": [
    "## Step 3: Describe the data"
   ]
  },
  {
   "cell_type": "markdown",
   "metadata": {},
   "source": [
    "##### 12. Print the min and max of each column"
   ]
  },
  {
   "cell_type": "code",
   "execution_count": 55,
   "metadata": {
    "collapsed": true
   },
   "outputs": [
    {
     "name": "stdout",
     "output_type": "stream",
     "text": [
      "[53, 67, 56, 6, 18, 52, 54, 11, 72, 81, 13, 53, 7, 65, 4, 8, 13, 77, 71, 71, 33, 68, 31, 51, 9, 6, 69, 12, 63, 60, 5, 8, 34, 51, 17, 82, 69, 65, 79, 26, 5, 8, 9, 11, 9, 23, ['MS', [...], 566, 551], 57, 12, 55, 4]\n"
     ]
    }
   ],
   "source": [
    "math_list = verbal_list = rate_list = []\n",
    "math_list = [data[2] for data in sat_data_dict.values()]\n",
    "verbal_list = [data[1] for data in sat_data_dict.values()]\n",
    "rate_list = [data[0] for data in sat_data_dict.values()]\n",
    "\n",
    "print (rate_list)\n",
    "\n",
    "\n",
    "#print (\"The maximum participation rate is \", max(rate_list),\"%.\")\n",
    "#print (\"The minimum participation rate is \", min(rate_list),\"%.\")\n",
    "#print (\"The highest mean verbal score is \", max(verbal_list),\"%.\")\n",
    "#print (\"The lowest mean verbal score is \", min(verbal_list),\"%.\")"
   ]
  },
  {
   "cell_type": "markdown",
   "metadata": {},
   "source": [
    "##### 13. Write a function using only list comprehensions, no loops, to compute Standard Deviation. Print the Standard Deviation of each numeric column."
   ]
  },
  {
   "cell_type": "code",
   "execution_count": null,
   "metadata": {
    "collapsed": false
   },
   "outputs": [],
   "source": []
  },
  {
   "cell_type": "markdown",
   "metadata": {},
   "source": [
    "## Step 4: Visualize the data"
   ]
  },
  {
   "cell_type": "markdown",
   "metadata": {
    "collapsed": true
   },
   "source": [
    "##### 14. Using MatPlotLib and PyPlot, plot the distribution of the Rate using histograms."
   ]
  },
  {
   "cell_type": "code",
   "execution_count": null,
   "metadata": {
    "collapsed": false
   },
   "outputs": [],
   "source": []
  },
  {
   "cell_type": "markdown",
   "metadata": {},
   "source": [
    "##### 15. Plot the Math distribution"
   ]
  },
  {
   "cell_type": "code",
   "execution_count": null,
   "metadata": {
    "collapsed": false
   },
   "outputs": [],
   "source": []
  },
  {
   "cell_type": "markdown",
   "metadata": {},
   "source": [
    "##### 16. Plot the Verbal distribution"
   ]
  },
  {
   "cell_type": "code",
   "execution_count": null,
   "metadata": {
    "collapsed": false
   },
   "outputs": [],
   "source": []
  },
  {
   "cell_type": "markdown",
   "metadata": {},
   "source": [
    "##### 17. What is the typical assumption for data distribution?"
   ]
  },
  {
   "cell_type": "code",
   "execution_count": null,
   "metadata": {
    "collapsed": false
   },
   "outputs": [],
   "source": []
  },
  {
   "cell_type": "markdown",
   "metadata": {},
   "source": [
    "##### 18. Does that distribution hold true for our data?"
   ]
  },
  {
   "cell_type": "code",
   "execution_count": null,
   "metadata": {
    "collapsed": false
   },
   "outputs": [],
   "source": []
  },
  {
   "cell_type": "markdown",
   "metadata": {},
   "source": [
    "##### 19. Plot some scatterplots. **BONUS**: Use a PyPlot `figure` to present multiple plots at once."
   ]
  },
  {
   "cell_type": "code",
   "execution_count": null,
   "metadata": {
    "collapsed": false
   },
   "outputs": [],
   "source": []
  },
  {
   "cell_type": "markdown",
   "metadata": {},
   "source": [
    "##### 20. Are there any interesting relationships to note?"
   ]
  },
  {
   "cell_type": "code",
   "execution_count": null,
   "metadata": {
    "collapsed": false
   },
   "outputs": [],
   "source": []
  },
  {
   "cell_type": "markdown",
   "metadata": {},
   "source": [
    "##### 21. Create box plots for each variable. "
   ]
  },
  {
   "cell_type": "code",
   "execution_count": null,
   "metadata": {
    "collapsed": false
   },
   "outputs": [],
   "source": []
  },
  {
   "cell_type": "markdown",
   "metadata": {},
   "source": [
    "##### BONUS: Using Tableau, create a heat map for each variable using a map of the US. "
   ]
  },
  {
   "cell_type": "code",
   "execution_count": null,
   "metadata": {
    "collapsed": true
   },
   "outputs": [],
   "source": []
  }
 ],
 "metadata": {
  "anaconda-cloud": {},
  "kernelspec": {
   "display_name": "Python [default]",
   "language": "python",
   "name": "python2"
  },
  "language_info": {
   "codemirror_mode": {
    "name": "ipython",
    "version": 2
   },
   "file_extension": ".py",
   "mimetype": "text/x-python",
   "name": "python",
   "nbconvert_exporter": "python",
   "pygments_lexer": "ipython2",
   "version": "2.7.12"
  }
 },
 "nbformat": 4,
 "nbformat_minor": 0
}
